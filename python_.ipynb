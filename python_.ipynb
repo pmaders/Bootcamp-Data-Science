{
  "nbformat": 4,
  "nbformat_minor": 0,
  "metadata": {
    "colab": {
      "name": "python .ipynb",
      "provenance": [],
      "authorship_tag": "ABX9TyOp/fviCBC+bed+6A45hWSc",
      "include_colab_link": true
    },
    "kernelspec": {
      "name": "python3",
      "display_name": "Python 3"
    }
  },
  "cells": [
    {
      "cell_type": "markdown",
      "metadata": {
        "id": "view-in-github",
        "colab_type": "text"
      },
      "source": [
        "<a href=\"https://colab.research.google.com/github/pmaders/Bootcamp-Data-Science/blob/master/python_.ipynb\" target=\"_parent\"><img src=\"https://colab.research.google.com/assets/colab-badge.svg\" alt=\"Open In Colab\"/></a>"
      ]
    },
    {
      "cell_type": "code",
      "metadata": {
        "id": "jZNbD7ueX_v8",
        "colab_type": "code",
        "colab": {
          "base_uri": "https://localhost:8080/",
          "height": 34
        },
        "outputId": "eafe11e2-b69c-443a-d123-278faa135654"
      },
      "source": [
        "#Quantos segundos há em 42 minutos e 42 segundos?\n",
        "m = 60\n",
        "s = 60*42\n",
        "print(s)"
      ],
      "execution_count": 1,
      "outputs": [
        {
          "output_type": "stream",
          "text": [
            "2520\n"
          ],
          "name": "stdout"
        }
      ]
    },
    {
      "cell_type": "code",
      "metadata": {
        "id": "6F-EEyo8Yfrp",
        "colab_type": "code",
        "colab": {
          "base_uri": "https://localhost:8080/",
          "height": 51
        },
        "outputId": "c5055f8f-5197-4d9c-bd22-5e6f6b763f02"
      },
      "source": [
        "#Quantas milhas há em 10 quilômetros? Dica: uma milha equivale a 1,61 quilômetro.\n",
        "m = float(input(\"Digite quandas milhas:\"))\n",
        "km = m*10\n",
        "print(km\"km\")"
      ],
      "execution_count": 3,
      "outputs": [
        {
          "output_type": "stream",
          "text": [
            "Digite quandas milhas:10\n",
            "100.0\n"
          ],
          "name": "stdout"
        }
      ]
    },
    {
      "cell_type": "code",
      "metadata": {
        "id": "PuAHXoDKZHXl",
        "colab_type": "code",
        "colab": {
          "base_uri": "https://localhost:8080/",
          "height": 34
        },
        "outputId": "464f5c96-63d3-4b5b-94ce-50cc5f9b7a22"
      },
      "source": [
        "#Se você correr 10 quilômetros em 42 minutos e 42 segundos, qual é o seu passo médio (tempo por milha em minutos e segundos)? Qual é a sua velocidade média em milhas por hora?\n",
        "print((42 * 60 + 42) / (10 / 1.61) / 60)\n",
        "\n"
      ],
      "execution_count": 4,
      "outputs": [
        {
          "output_type": "stream",
          "text": [
            "6.874700000000001\n"
          ],
          "name": "stdout"
        }
      ]
    }
  ]
}